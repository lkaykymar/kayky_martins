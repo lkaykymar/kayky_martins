{
  "nbformat": 4,
  "nbformat_minor": 0,
  "metadata": {
    "colab": {
      "provenance": [],
      "include_colab_link": true
    },
    "kernelspec": {
      "name": "python3",
      "display_name": "Python 3"
    },
    "language_info": {
      "name": "python"
    }
  },
  "cells": [
    {
      "cell_type": "markdown",
      "metadata": {
        "id": "view-in-github",
        "colab_type": "text"
      },
      "source": [
        "<a href=\"https://colab.research.google.com/github/lkaykymar/kayky_martins/blob/main/codigo_similaridade_cosseno.ipynb\" target=\"_parent\"><img src=\"https://colab.research.google.com/assets/colab-badge.svg\" alt=\"Open In Colab\"/></a>"
      ]
    },
    {
      "cell_type": "markdown",
      "source": [
        "**Recomendação Por Título**"
      ],
      "metadata": {
        "id": "CcYYEoYQPgRH"
      }
    },
    {
      "cell_type": "code",
      "execution_count": 5,
      "metadata": {
        "colab": {
          "base_uri": "https://localhost:8080/"
        },
        "id": "wsf-Ori_Pdlt",
        "outputId": "46864d6a-0622-4abf-c0ef-0a47b202cc2f"
      },
      "outputs": [
        {
          "output_type": "stream",
          "name": "stderr",
          "text": [
            "[nltk_data] Downloading package stopwords to /root/nltk_data...\n",
            "[nltk_data]   Package stopwords is already up-to-date!\n"
          ]
        },
        {
          "output_type": "stream",
          "name": "stdout",
          "text": [
            "Digite o nome da música para recomendar: girassol\n",
            " O Girassol   -   Vinicius de Moraes \n",
            " Catavento e Girassol   -   Sérgio Mendes \n",
            " Depois Das Seis   -   Sylvia Patrícia \n",
            " Clima Com o Mundo   -   Sylvia Patrícia \n",
            " Cantar   -   Sylvia Patrícia \n",
            " Cada Um Cada Um ( Namoradeira)   -   Sylvia Patrícia \n",
            " As Contas   -   Sylvia Patrícia \n",
            " Amor é...   -   Sylvia Patrícia \n",
            " Agua e Sal   -   Sylvia Patrícia \n",
            " Tempos Modernos   -   Sylvia Patrícia \n"
          ]
        }
      ],
      "source": [
        "import pandas as pd\n",
        "import re\n",
        "import unicodedata\n",
        "import numpy as np\n",
        "from sklearn.metrics.pairwise import cosine_similarity\n",
        "import math\n",
        "import nltk\n",
        "from nltk.corpus import stopwords\n",
        "\n",
        "# Baixar stopwords\n",
        "nltk.download('stopwords')\n",
        "\n",
        "# Lista de stopwords em português\n",
        "stop_words = set(stopwords.words('portuguese'))\n",
        "\n",
        "# Função para limpar os títulos das músicas\n",
        "def preprocess_song_name(song_name):\n",
        "    if pd.isna(song_name):\n",
        "        return \"\"\n",
        "\n",
        "    title = re.sub(r\"[\\[\\]']\", \"\", song_name)\n",
        "    title = re.sub(r\"[^\\w\\s]\", \"\", title)\n",
        "    title = title.lower()\n",
        "    title = ''.join(\n",
        "        char for char in unicodedata.normalize('NFD', title)\n",
        "        if unicodedata.category(char) != 'Mn'\n",
        "    )\n",
        "\n",
        "    # Remove stop words\n",
        "    words = title.split()\n",
        "    filtered_words = [word for word in words if word not in stop_words]\n",
        "\n",
        "    return \" \".join(filtered_words)\n",
        "\n",
        "# Função de recomendação\n",
        "def recommend_songs(user_input, songs_df):\n",
        "    user_input = preprocess_song_name(user_input)\n",
        "    user_vector = np.zeros(len(unique_words))\n",
        "\n",
        "    for word in user_input.split():\n",
        "        if word in word_index:\n",
        "            user_vector[word_index[word]] = 1\n",
        "\n",
        "    similarities = cosine_similarity([user_vector], word_bow.values)[0]\n",
        "    angles = [round(math.degrees(math.acos(sim)), 1) if -1 <= sim <= 1 else None for sim in similarities]\n",
        "\n",
        "    songs_df['similarity'] = similarities\n",
        "    songs_df['angle_degrees'] = angles\n",
        "\n",
        "    recommended_songs = songs_df.sort_values(by='similarity', ascending=False).head(10)\n",
        "    return recommended_songs[['song_name', 'artist']]\n",
        "\n",
        "# Carregando o dataset\n",
        "\n",
        "\n",
        "data_path = '/content/bossa_nova_songs_dataset.xlsx'\n",
        "songs_df = pd.read_excel(data_path)\n",
        "\n",
        "\n",
        "# Limpando os nomes das músicas\n",
        "songs_df['cleaned_song_name'] = songs_df['song_name'].apply(preprocess_song_name)\n",
        "\n",
        "# Criando o índice de palavras únicas\n",
        "unique_words = sorted(set(\" \".join(songs_df['cleaned_song_name']).split()))\n",
        "word_index = {word: idx for idx, word in enumerate(unique_words)}\n",
        "\n",
        "# Criando a matriz Bag of Words\n",
        "word_bow = pd.DataFrame(0, index=songs_df.index, columns=unique_words)\n",
        "for idx, song in enumerate(songs_df['cleaned_song_name']):\n",
        "    for word in song.split():\n",
        "        if word in word_bow.columns:\n",
        "            word_bow.loc[idx, word] = 1\n",
        "\n",
        "# Entrada do usuário e recomendação\n",
        "user_input = str(input(\"Digite o nome da música para recomendar: \"))\n",
        "recommendations = recommend_songs(user_input, songs_df)\n",
        "\n",
        "# Exibindo somente nomes e artistas recomendados\n",
        "for idx, row in recommendations.iterrows():\n",
        "    print(f\"{row['song_name']} - {row['artist']}\")\n",
        "\n",
        "\n"
      ]
    },
    {
      "cell_type": "markdown",
      "source": [
        "**Recomendação por Letra**"
      ],
      "metadata": {
        "id": "gpKDjO_LShyL"
      }
    },
    {
      "cell_type": "code",
      "source": [
        "import pandas as pd\n",
        "import re\n",
        "import unicodedata\n",
        "import numpy as np\n",
        "from sklearn.feature_extraction.text import CountVectorizer\n",
        "from sklearn.metrics.pairwise import cosine_similarity\n",
        "import math\n",
        "import nltk\n",
        "from nltk.corpus import stopwords\n",
        "\n",
        "# Baixando a lista de stopwords\n",
        "nltk.download('stopwords')\n",
        "stop_words = set(stopwords.words('portuguese'))  # Utilizando stopwords em português\n",
        "\n",
        "def preprocess_lyrics(lyrics):\n",
        "    if pd.isna(lyrics):\n",
        "        return \"\"\n",
        "    lyrics = lyrics.lower()  # Transforma tudo em minúsculo\n",
        "    lyrics = re.sub(r'[^\\w\\s]', '', lyrics)  # Remove pontuações\n",
        "    lyrics = ''.join(char for char in unicodedata.normalize('NFD', lyrics) if unicodedata.category(char) != 'Mn')  # Remove acentos\n",
        "    lyrics = ' '.join(word for word in lyrics.split() if word not in stop_words)  # Remove stopwords\n",
        "    return lyrics\n",
        "\n",
        "def recommend_songs(user_input, songs_df):\n",
        "    user_input = preprocess_lyrics(user_input)  # Pré-processa a entrada do usuário\n",
        "\n",
        "    all_lyrics = songs_df['cleaned_song_lyrics'].tolist() + [user_input]  # Junta as letras das músicas com a entrada do usuário\n",
        "\n",
        "    vectorizer = CountVectorizer(binary=True)  #  (bag of words)\n",
        "    bow_matrix = vectorizer.fit_transform(all_lyrics)\n",
        "\n",
        "    similarities = cosine_similarity(bow_matrix[-1], bow_matrix[:-1])[0]  # Calcula a similaridade de cosseno\n",
        "    angles = [round(math.degrees(math.acos(sim)), 1) if -1 <= sim <= 1 else None for sim in similarities]\n",
        "\n",
        "    songs_df['similarity'] = similarities  # Adiciona a similaridade no dataframe\n",
        "    songs_df['angle_degrees'] = angles  # Adiciona o ângulo em graus no dataframe\n",
        "\n",
        "    recommended_songs = songs_df.sort_values(by='similarity', ascending=False).head(10)  # Seleciona as 10 músicas mais similares\n",
        "    return recommended_songs[['song_name', 'artist', 'song_lyrics']]  # Retorna as colunas desejadas\n",
        "\n",
        "# Carregamento dos dados\n",
        "data_path = '/content/bossa_nova_songs_dataset.xlsx'\n",
        "songs_df = pd.read_excel(data_path)\n",
        "\n",
        "# Limpeza das letras das músicas\n",
        "songs_df['cleaned_song_lyrics'] = songs_df['song_lyrics'].apply(preprocess_lyrics)\n",
        "\n",
        "# Entrada do usuário\n",
        "user_input = str(input(\"Digite a letra ou parte da letra da música para recomendar: \"))\n",
        "recommendations = recommend_songs(user_input, songs_df)\n",
        "\n",
        "# Exibindo as recomendações (título, artista e letra completa)\n",
        "print(\"Músicas recomendadas:\")\n",
        "for index, row in recommendations.iterrows():\n",
        "    print(f\"Título: {row['song_name']}\")\n",
        "    print(f\"Artista: {row['artist']}\")\n",
        "    print(f\"Letra:\\n{row['song_lyrics']}\\n\")\n",
        "\n"
      ],
      "metadata": {
        "colab": {
          "base_uri": "https://localhost:8080/"
        },
        "id": "M4_cB--TSqsG",
        "outputId": "ee565b8d-e9a7-4d05-b151-3c5e1bc869bc"
      },
      "execution_count": 6,
      "outputs": [
        {
          "output_type": "stream",
          "name": "stderr",
          "text": [
            "[nltk_data] Downloading package stopwords to /root/nltk_data...\n",
            "[nltk_data]   Package stopwords is already up-to-date!\n"
          ]
        },
        {
          "output_type": "stream",
          "name": "stdout",
          "text": [
            "Digite a letra ou parte da letra da música para recomendar: these hits\n",
            "Músicas recomendadas:\n",
            "Título:  The Game  \n",
            "Artista:   Art In Manila \n",
            "Letra:\n",
            "  These hits have made a bruise I wear to show the truth I don't care if i win or lose I just don't want  To play the game And to hurt is to love Not where i come from These hits have made a bruise It grows deep red or blue I don't care if i win or lose I just don't want  To play the game And to hurt the one i love Fly away crimson dove To hurt (These hits have made a bruise) Is to love (I wear to show the truth) To hurt (I don't care if i win or lose) Is to love (I don't care if i win or lose) To hurt (These hits have made a bruise) Is to love (I wear to show the truth) To hurt (I don't care if i win or lose) Is to love (I don't care if i win or lose)  \n",
            "\n",
            "Título:  Blue In Green  \n",
            "Artista:   Paula Faour \n",
            "Letra:\n",
            "  Hues of blues and greens surround me Knowing you have found another love Has turned me world To sorrow Green with envy for another Fearing she may be the one to soar Through life with you, can't lose these Hues of blues in green  \n",
            "\n",
            "Título:  Sweet Dreams (Are Made of This)  \n",
            "Artista:   Bebel Gilberto \n",
            "Letra:\n",
            "  Sweet dreams are made of these Who am I to disagree? Travel the world and the seven seas Everybody's looking for something Some of them want to use you Some of the them wanna get used by you Some of them want to abuse you Some of them want to be abused I wanna use you And abuse you I wanna know what's inside Movin' on, movin' on Movin' on, movin' on Movin' on, movin' on Movin' on! Sweet dreams are made of these Who am I to disagree? Travel the world and the seven seas Everybody's looking for something Some of them want to use you Some of the them wanna get used by you Some of them want to abuse you Some of them want to be abused I'm gonna use you and abuse you I've gotta know what's inside I'm gonna use you and abuse you I've gotta know what's inside  \n",
            "\n",
            "Título:  Sweet Dreams  \n",
            "Artista:   Bebel Gilberto \n",
            "Letra:\n",
            "  Sweet dreams are made of these Who am I to disagree? Travel the world and the seven seas Everybody's looking for something Some of them want to use you Some of the them wanna get used by you Some of them want to abuse you Some of them want to be abused I wanna use you And abuse you I wanna know what's inside Movin' on, movin' on Movin' on, movin' on Movin' on, movin' on Movin' on! Sweet dreams are made of these Who am I to disagree? Travel the world and the seven seas Everybody's looking for something Some of them want to use you Some of the them wanna get used by you Some of them want to abuse you Some of them want to be abused I'm gonna use you and abuse you I've gotta know what's inside I'm gonna use you and abuse you I've gotta know what's inside  \n",
            "\n",
            "Título:  Melody Of Your Face  \n",
            "Artista:   De/Vision \n",
            "Letra:\n",
            "  Tell me the words I'm waiting for At this moment Tell me your thoughts I'm crying for At this moment Show me your face I'm searching for In every moment And let me forget all these moments of pain Try to explain the words you say And reward me Find the reason to go on With this behavior Keep your distance to my thoughts They will hurt you And let me forget all these moments of pain The melody of your face The melody of your face The melody of your face The melody of your face Sing me the melody of your face The melody of your face Sing me the melody of your face The melody of your face  \n",
            "\n",
            "Título:  Suffer The Children  \n",
            "Artista:   Kiss The Gunner \n",
            "Letra:\n",
            "  At last I see the great divide. Through a crowded room that has no lights. I guide my way through this sea with no direction. Have mercy. Weigh me through, through these tides. God have mercy on them. All of their lives mean nothing without you. We are nothing without you. This is how you cherish love, driving blind at the wheel. Weigh me through, through these tides. God have mercy on them. All of there lives mean nothing without you. We are nothing without you.  \n",
            "\n",
            "Título:  First Things First  \n",
            "Artista:   James Horner \n",
            "Letra:\n",
            "  First things first When you can quit livin' in the past When you stop worryin' 'bout tomorrow Then I think you just might last And I know the price of freedom Gettin' more than a little high In these angry days of sorrow We find the meaning of a lie So I sing about first things first First things first Remember everything you pass When it's time to go on back Remember to put the first things first And I know the price of freedom Gettin' more than a little high In these angry days of sorrow We find the meaning of a lie So I sing about first things first  \n",
            "\n",
            "Título:  Magic Lantern  \n",
            "Artista:   Brothers of Brazil \n",
            "Letra:\n",
            "  I can imagine From such a melody Come all these memories From across the seven seas And down the centuries There’s a light ahead of me Raise a lamp so I can see The magic lantern that shines on me Shining bright so we all can see The magic lantern that brings to me The signs that you left everywhere The signs that you left everywhere The lip stick glass,my brush your hair The shirt you hang upon the stair Oh yeh Seu escudeiro,fiel guerreiro Seu escudeiro,fiel guerreiro  \n",
            "\n",
            "Título:  All Of Me  \n",
            "Artista:   Bob Tostes \n",
            "Letra:\n",
            "  All of me Why not take all of me Can't you see I'm no good without you Take my lips I wanna lose them Take my arms I'll never use them Your goodbye left me with eyes that cry How can I get along without you You took the part that ones was my heart So why not, why not take all of me All of me Come on get all of me Can't you see I'm just a mess without you Take my lips I wanna lose them Get a piece of these arms I'll never use them Your goodbye left me with eyes that cry How can I ever make it without you You know you got the part Used to be my heart So why not, why not take all of me  \n",
            "\n",
            "Título:  Set The Woods On Fire  \n",
            "Artista:   Art In Manila \n",
            "Letra:\n",
            "  We make things better We make things hard A shelter of sorrow  Grows in the dark Oh, how long  Must the soul survive Under the weight  Of these haunted pines Chorus: Set the woods on fire Set the woods on fire, now Like  And the thin blue line You're not guilty But you're doing time Oh, how long  Must the soul endure To find silences  (Chorus) We make things better We make things hard We make things better We make things hard Oh, how high  Will the flames reach Behind every tree  Is just another dream Set the woods on fire Set the woods on fire Set the woods on fire Set the woods on fire, now  \n",
            "\n"
          ]
        }
      ]
    }
  ]
}