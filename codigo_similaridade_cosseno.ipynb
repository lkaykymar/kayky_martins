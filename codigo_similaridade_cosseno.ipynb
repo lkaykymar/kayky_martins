{
  "nbformat": 4,
  "nbformat_minor": 0,
  "metadata": {
    "colab": {
      "provenance": []
    },
    "kernelspec": {
      "name": "python3",
      "display_name": "Python 3"
    },
    "language_info": {
      "name": "python"
    }
  },
  "cells": [
    {
      "cell_type": "markdown",
      "source": [
        "**Recomendação Por Título**"
      ],
      "metadata": {
        "id": "CcYYEoYQPgRH"
      }
    },
    {
      "cell_type": "code",
      "execution_count": null,
      "metadata": {
        "colab": {
          "base_uri": "https://localhost:8080/"
        },
        "id": "wsf-Ori_Pdlt",
        "outputId": "90bb24b9-2d58-4265-bdf3-a15f15c32499"
      },
      "outputs": [
        {
          "output_type": "stream",
          "name": "stderr",
          "text": [
            "[nltk_data] Downloading package stopwords to /root/nltk_data...\n",
            "[nltk_data]   Package stopwords is already up-to-date!\n"
          ]
        }
      ],
      "source": [
        "import pandas as pd\n",
        "import re\n",
        "import unicodedata\n",
        "import numpy as np\n",
        "from sklearn.metrics.pairwise import cosine_similarity\n",
        "import math\n",
        "import nltk\n",
        "from nltk.corpus import stopwords\n",
        "\n",
        "# Baixar stopwords\n",
        "nltk.download('stopwords')\n",
        "\n",
        "# Lista de stopwords em português\n",
        "stop_words = set(stopwords.words('portuguese'))\n",
        "\n",
        "# Função para limpar os títulos das músicas\n",
        "def preprocess_song_name(song_name):\n",
        "    if pd.isna(song_name):\n",
        "        return \"\"\n",
        "\n",
        "    title = re.sub(r\"[\\[\\]']\", \"\", song_name)\n",
        "    title = re.sub(r\"[^\\w\\s]\", \"\", title)\n",
        "    title = title.lower()\n",
        "    title = ''.join(\n",
        "        char for char in unicodedata.normalize('NFD', title)\n",
        "        if unicodedata.category(char) != 'Mn'\n",
        "    )\n",
        "\n",
        "    # Remove stop words\n",
        "    words = title.split()\n",
        "    filtered_words = [word for word in words if word not in stop_words]\n",
        "\n",
        "    return \" \".join(filtered_words)\n",
        "\n",
        "# Função de recomendação\n",
        "def recommend_songs(user_input, songs_df):\n",
        "    user_input = preprocess_song_name(user_input)\n",
        "    user_vector = np.zeros(len(unique_words))\n",
        "\n",
        "    for word in user_input.split():\n",
        "        if word in word_index:\n",
        "            user_vector[word_index[word]] = 1\n",
        "\n",
        "    similarities = cosine_similarity([user_vector], word_bow.values)[0]\n",
        "    angles = [round(math.degrees(math.acos(sim)), 1) if -1 <= sim <= 1 else None for sim in similarities]\n",
        "\n",
        "    songs_df['similarity'] = similarities\n",
        "    songs_df['angle_degrees'] = angles\n",
        "\n",
        "    recommended_songs = songs_df.sort_values(by='similarity', ascending=False).head(10)\n",
        "    return recommended_songs[['song_name', 'artist']]\n",
        "\n",
        "# Carregando o dataset\n",
        "\n",
        "\n",
        "data_path = '/content/bossa_nova_songs_dataset.xlsx'\n",
        "songs_df = pd.read_excel(data_path)\n",
        "\n",
        "\n",
        "# Limpando os nomes das músicas\n",
        "songs_df['cleaned_song_name'] = songs_df['song_name'].apply(preprocess_song_name)\n",
        "\n",
        "# Criando o índice de palavras únicas\n",
        "unique_words = sorted(set(\" \".join(songs_df['cleaned_song_name']).split()))\n",
        "word_index = {word: idx for idx, word in enumerate(unique_words)}\n",
        "\n",
        "# Criando a matriz Bag of Words\n",
        "word_bow = pd.DataFrame(0, index=songs_df.index, columns=unique_words)\n",
        "for idx, song in enumerate(songs_df['cleaned_song_name']):\n",
        "    for word in song.split():\n",
        "        if word in word_bow.columns:\n",
        "            word_bow.loc[idx, word] = 1\n",
        "\n",
        "# Entrada do usuário e recomendação\n",
        "user_input = str(input(\"Digite o nome da música para recomendar: \"))\n",
        "recommendations = recommend_songs(user_input, songs_df)\n",
        "\n",
        "# Exibindo somente nomes e artistas recomendados\n",
        "for idx, row in recommendations.iterrows():\n",
        "    print(f\"{row['song_name']} - {row['artist']}\")\n",
        "\n",
        "\n"
      ]
    },
    {
      "cell_type": "markdown",
      "source": [
        "**Recomendação por Letra**"
      ],
      "metadata": {
        "id": "gpKDjO_LShyL"
      }
    },
    {
      "cell_type": "code",
      "source": [
        "import pandas as pd\n",
        "import re\n",
        "import unicodedata\n",
        "import numpy as np\n",
        "from sklearn.feature_extraction.text import CountVectorizer\n",
        "from sklearn.metrics.pairwise import cosine_similarity\n",
        "import math\n",
        "import nltk\n",
        "from nltk.corpus import stopwords\n",
        "\n",
        "# Baixando a lista de stopwords\n",
        "nltk.download('stopwords')\n",
        "stop_words = set(stopwords.words('portuguese'))  # Utilizando stopwords em português\n",
        "\n",
        "def preprocess_lyrics(lyrics):\n",
        "    if pd.isna(lyrics):\n",
        "        return \"\"\n",
        "    lyrics = lyrics.lower()  # Transforma tudo em minúsculo\n",
        "    lyrics = re.sub(r'[^\\w\\s]', '', lyrics)  # Remove pontuações\n",
        "    lyrics = ''.join(char for char in unicodedata.normalize('NFD', lyrics) if unicodedata.category(char) != 'Mn')  # Remove acentos\n",
        "    lyrics = ' '.join(word for word in lyrics.split() if word not in stop_words)  # Remove stopwords\n",
        "    return lyrics\n",
        "\n",
        "def recommend_songs(user_input, songs_df):\n",
        "    user_input = preprocess_lyrics(user_input)  # Pré-processa a entrada do usuário\n",
        "\n",
        "    all_lyrics = songs_df['cleaned_song_lyrics'].tolist() + [user_input]  # Junta as letras das músicas com a entrada do usuário\n",
        "\n",
        "    vectorizer = CountVectorizer(binary=True)  #  (bag of words)\n",
        "    bow_matrix = vectorizer.fit_transform(all_lyrics)\n",
        "\n",
        "    similarities = cosine_similarity(bow_matrix[-1], bow_matrix[:-1])[0]  # Calcula a similaridade de cosseno\n",
        "    angles = [round(math.degrees(math.acos(sim)), 1) if -1 <= sim <= 1 else None for sim in similarities]\n",
        "\n",
        "    songs_df['similarity'] = similarities  # Adiciona a similaridade no dataframe\n",
        "    songs_df['angle_degrees'] = angles  # Adiciona o ângulo em graus no dataframe\n",
        "\n",
        "    recommended_songs = songs_df.sort_values(by='similarity', ascending=False).head(10)  # Seleciona as 10 músicas mais similares\n",
        "    return recommended_songs[['song_name', 'artist', 'song_lyrics']]  # Retorna as colunas desejadas\n",
        "\n",
        "# Carregamento dos dados\n",
        "data_path = '/content/bossa_nova_songs_dataset.xlsx'\n",
        "songs_df = pd.read_excel(data_path)\n",
        "\n",
        "# Limpeza das letras das músicas\n",
        "songs_df['cleaned_song_lyrics'] = songs_df['song_lyrics'].apply(preprocess_lyrics)\n",
        "\n",
        "# Entrada do usuário\n",
        "user_input = str(input(\"Digite a letra ou parte da letra da música para recomendar: \"))\n",
        "recommendations = recommend_songs(user_input, songs_df)\n",
        "\n",
        "# Exibindo as recomendações (título, artista e letra completa)\n",
        "print(\"Músicas recomendadas:\")\n",
        "for index, row in recommendations.iterrows():\n",
        "    print(f\"Título: {row['song_name']}\")\n",
        "    print(f\"Artista: {row['artist']}\")\n",
        "    print(f\"Letra:\\n{row['song_lyrics']}\\n\")\n",
        "\n"
      ],
      "metadata": {
        "colab": {
          "base_uri": "https://localhost:8080/"
        },
        "id": "M4_cB--TSqsG",
        "outputId": "294de055-01e9-4df2-dc28-53a45f84c086"
      },
      "execution_count": null,
      "outputs": [
        {
          "output_type": "stream",
          "name": "stderr",
          "text": [
            "[nltk_data] Downloading package stopwords to /root/nltk_data...\n",
            "[nltk_data]   Package stopwords is already up-to-date!\n"
          ]
        },
        {
          "output_type": "stream",
          "name": "stdout",
          "text": [
            "Digite a letra ou parte da letra da música para recomendar: amor\n",
            "Músicas recomendadas:\n",
            "Título:  Refúgio  \n",
            "Artista:   Wanda Sá \n",
            "Letra:\n",
            "  Sob Suas asas de amor eu me refugio ó meu Senhor Somente em Ti confio Somente em Ti meu Senhor  \n",
            "\n",
            "Título:  Nega do Cabelo Duro  \n",
            "Artista:   Astrud Gilberto \n",
            "Letra:\n",
            "  Nega do cabelo duro, Qual é o pente que te penteia? Qual é o pente que te penteia? Qual é o pente que te penteia? Nega do cabelo duro, Qual é o pente que te penteia? Qual é o pente que te penteia? Qual é o pente que te penteia? Teu cabelo está na moda, o teu corpo bamboleia. Minha nega, meu amor, Qual é o pente que te penteia? Nega do cabelo duro, Qual é o pente que te penteia? Qual é o pente que te penteia? Qual é o pente que te penteia?  \n",
            "\n",
            "Título:  Acima Das Estrelas  \n",
            "Artista:   Wanda Sá \n",
            "Letra:\n",
            "  Salvou-me Salvou-me Salvou-me Pelo Seu amor O Homem que mora que mora acima das estrelas Ele mora acima das estrelas Ele é Jesus o Rei da glória Coroou-me Coroou-me Coroou-me Pelo Seu amor Amou-me Amou-me Amou-me Pelo Seu amor  \n",
            "\n",
            "Título:  Não Tem Solução  \n",
            "Artista:   Dick Farney \n",
            "Letra:\n",
            "  Não tem solução este novo amor Um amor a mais me roubou a paz Eu que esperava nunca mais amar não sei o que faça com este amor demais  \n",
            "\n",
            "Título:  O Grande Amor  \n",
            "Artista:   Paula Faour \n",
            "Letra:\n",
            "  Haja o que houver, há sempre um homem, para uma mulher. E há de sempre haver para esquecer, um falso amor e uma vontade de morrer. Seja como for há de vencer o grande amor, que há de ser no coração  \n",
            "\n",
            "Título:  Hô-bá-lá-lá  \n",
            "Artista:   João Gilberto \n",
            "Letra:\n",
            "  É amor o hó-bá-lá-lá Hó-bá-lá-lá uma canção Quem ouvir o hó-bá-lá-lá Terá feliz o coração O amor encontrará Ouvindo esta canção Alguém compreenderá Seu coração Vem ouvir, o hó-bá-lá-lá Hó-bá-lá-lá esta canção É amor o hó-bá-lá-lá Hó-bá-lá-lá uma canção Quem ouvir o hó-bá-lá-lá Terá feliz o coração O amor encontrará Ouvindo esta canção Alguém compreenderá Seu coração Vem ouvir o hó-bá-lá-lá Hó-bá-lá-lá esta canção Bá-lá-lá hó-bá-lá-lá Hó-bá-lá-lá Hó-bá-lá-lá Hó-bá-lá-lá Hó-bá-lá-lá  \n",
            "\n",
            "Título:  Segue a Vida Em Paz  \n",
            "Artista:   Alaíde Costa \n",
            "Letra:\n",
            "  Segue a vida em paz Só há paz quando há bem Vai buscar amor No caminho do amor sem fim Segue a vida em paz Que a vida segue ninguém Vem sentir amor Pelo amor que vem Segue a vida em paz Só há paz quando há bem Vai buscar amor No caminho do amor sem fim Segue a vida em paz Que a vida segue ninguém Vem sentir amor Pelo amor que vem  \n",
            "\n",
            "Título:  Eu e o Meu Amor  \n",
            "Artista:   Tom Jobim \n",
            "Letra:\n",
            "  Eu e o meu amor E o meu amor ... Que foi-se embora Me deixando tanta dor Tanta tristeza No meu pobre coração Que até jurou Não me deixar E foi-se embora Para nunca mais voltar  \n",
            "\n",
            "Título:  O Grande Amor  \n",
            "Artista:   Tom Jobim \n",
            "Letra:\n",
            "  Haja o que houver Há sempre um homem, para uma mulher E há de sempre haver para esquecer Um falso amor e uma vontade de morrer Seja como for há de vencer o grande amor Que há de ser no coração Como um perdão Pra quem chorou  \n",
            "\n",
            "Título:  Eu e o Meu Amor  \n",
            "Artista:   Vinicius de Moraes \n",
            "Letra:\n",
            "  Eu e o meu amor E o meu amor Que foi-se embora Me deixando tanta dor Tanta tristeza No meu pobre coração Que até jurou Não me deixar E foi-se embora Para nunca mais voltar  \n",
            "\n"
          ]
        }
      ]
    }
  ]
}