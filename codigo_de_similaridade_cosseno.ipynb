{
  "nbformat": 4,
  "nbformat_minor": 0,
  "metadata": {
    "colab": {
      "provenance": [],
      "include_colab_link": true
    },
    "kernelspec": {
      "name": "python3",
      "display_name": "Python 3"
    },
    "language_info": {
      "name": "python"
    }
  },
  "cells": [
    {
      "cell_type": "markdown",
      "metadata": {
        "id": "view-in-github",
        "colab_type": "text"
      },
      "source": [
        "<a href=\"https://colab.research.google.com/github/lkaykymar/kayky_martins/blob/main/codigo_de_similaridade_cosseno.ipynb\" target=\"_parent\"><img src=\"https://colab.research.google.com/assets/colab-badge.svg\" alt=\"Open In Colab\"/></a>"
      ]
    },
    {
      "cell_type": "markdown",
      "source": [
        "**Recomendação Por Título**"
      ],
      "metadata": {
        "id": "CcYYEoYQPgRH"
      }
    },
    {
      "cell_type": "code",
      "execution_count": 5,
      "metadata": {
        "colab": {
          "base_uri": "https://localhost:8080/"
        },
        "id": "wsf-Ori_Pdlt",
        "outputId": "8e6cbe2a-1da0-42df-ea22-56962a506f32"
      },
      "outputs": [
        {
          "output_type": "stream",
          "name": "stderr",
          "text": [
            "[nltk_data] Downloading package stopwords to /root/nltk_data...\n",
            "[nltk_data]   Package stopwords is already up-to-date!\n"
          ]
        },
        {
          "output_type": "stream",
          "name": "stdout",
          "text": [
            "Digite o nome da música para recomendar: girassol\n",
            " O Girassol   -   Vinicius de Moraes \n",
            " Catavento e Girassol   -   Sérgio Mendes \n",
            " Tomara   -   Alaíde Costa \n",
            " Tempo Calado   -   Alaíde Costa \n",
            " Quem Sou Eu?   -   Alaíde Costa \n",
            " Diariamente   -   Alaíde Costa \n",
            " Coração   -   Alaíde Costa \n",
            " Absinto   -   Alaíde Costa \n",
            " Amigo Amado   -   Alaíde Costa \n",
            " Onde Está Você   -   Alaíde Costa \n"
          ]
        }
      ],
      "source": [
        "import pandas as pd\n",
        "import re\n",
        "import unicodedata\n",
        "import numpy as np\n",
        "from sklearn.metrics.pairwise import cosine_similarity\n",
        "import math\n",
        "import nltk\n",
        "from nltk.corpus import stopwords\n",
        "\n",
        "# Baixar stopwords\n",
        "nltk.download('stopwords')\n",
        "\n",
        "# Lista de stopwords em português\n",
        "stop_words = set(stopwords.words('portuguese'))\n",
        "\n",
        "# Função para limpar os títulos das músicas\n",
        "def preprocess_song_name(song_name):\n",
        "    if pd.isna(song_name):\n",
        "        return \"\"\n",
        "\n",
        "    title = re.sub(r\"[\\[\\]']\", \"\", song_name)\n",
        "    title = re.sub(r\"[^\\w\\s]\", \"\", title)\n",
        "    title = title.lower()\n",
        "    title = ''.join(\n",
        "        char for char in unicodedata.normalize('NFD', title)\n",
        "        if unicodedata.category(char) != 'Mn'\n",
        "    )\n",
        "\n",
        "    # Remove stop words\n",
        "    words = title.split()\n",
        "    filtered_words = [word for word in words if word not in stop_words]\n",
        "\n",
        "    return \" \".join(filtered_words)\n",
        "\n",
        "# Função de recomendação\n",
        "def recommend_songs(user_input, songs_df):\n",
        "    user_input = preprocess_song_name(user_input)\n",
        "    user_vector = np.zeros(len(unique_words))\n",
        "\n",
        "    for word in user_input.split():\n",
        "        if word in word_index:\n",
        "            user_vector[word_index[word]] = 1\n",
        "\n",
        "    similarities = cosine_similarity([user_vector], word_bow.values)[0]\n",
        "    angles = [round(math.degrees(math.acos(sim)), 1) if -1 <= sim <= 1 else None for sim in similarities]\n",
        "\n",
        "    songs_df['similarity'] = similarities\n",
        "    songs_df['angle_degrees'] = angles\n",
        "\n",
        "    recommended_songs = songs_df.sort_values(by='similarity', ascending=False).head(10)\n",
        "    return recommended_songs[['song_name', 'artist']]\n",
        "\n",
        "# Carregando o dataset\n",
        "\n",
        "\n",
        "data_path = '/content/bossa_nova_songs_portugues.xlsx'\n",
        "songs_df = pd.read_excel(data_path)\n",
        "\n",
        "\n",
        "# Limpando os nomes das músicas\n",
        "songs_df['cleaned_song_name'] = songs_df['song_name'].apply(preprocess_song_name)\n",
        "\n",
        "# Criando o índice de palavras únicas\n",
        "unique_words = sorted(set(\" \".join(songs_df['cleaned_song_name']).split()))\n",
        "word_index = {word: idx for idx, word in enumerate(unique_words)}\n",
        "\n",
        "# Criando a matriz Bag of Words\n",
        "word_bow = pd.DataFrame(0, index=songs_df.index, columns=unique_words)\n",
        "for idx, song in enumerate(songs_df['cleaned_song_name']):\n",
        "    for word in song.split():\n",
        "        if word in word_bow.columns:\n",
        "            word_bow.loc[idx, word] = 1\n",
        "\n",
        "# Entrada do usuário e recomendação\n",
        "user_input = str(input(\"Digite o nome da música para recomendar: \"))\n",
        "recommendations = recommend_songs(user_input, songs_df)\n",
        "\n",
        "# Exibindo somente nomes e artistas recomendados\n",
        "for idx, row in recommendations.iterrows():\n",
        "    print(f\"{row['song_name']} - {row['artist']}\")\n",
        "\n",
        "\n"
      ]
    },
    {
      "cell_type": "markdown",
      "source": [
        "**Recomendação por Letra**"
      ],
      "metadata": {
        "id": "gpKDjO_LShyL"
      }
    },
    {
      "cell_type": "code",
      "source": [
        "import pandas as pd\n",
        "import re\n",
        "import unicodedata\n",
        "import numpy as np\n",
        "from sklearn.feature_extraction.text import CountVectorizer\n",
        "from sklearn.metrics.pairwise import cosine_similarity\n",
        "import math\n",
        "import nltk\n",
        "from nltk.corpus import stopwords\n",
        "\n",
        "# Baixando a lista de stopwords\n",
        "nltk.download('stopwords')\n",
        "stop_words = set(stopwords.words('portuguese'))  # Utilizando stopwords em português\n",
        "\n",
        "def preprocess_lyrics(lyrics):\n",
        "    if pd.isna(lyrics):\n",
        "        return \"\"\n",
        "    lyrics = lyrics.lower()  # Transforma tudo em minúsculo\n",
        "    lyrics = re.sub(r'[^\\w\\s]', '', lyrics)  # Remove pontuações\n",
        "    lyrics = ''.join(char for char in unicodedata.normalize('NFD', lyrics) if unicodedata.category(char) != 'Mn')  # Remove acentos\n",
        "    lyrics = ' '.join(word for word in lyrics.split() if word not in stop_words)  # Remove stopwords\n",
        "    return lyrics\n",
        "\n",
        "def recommend_songs(user_input, songs_df):\n",
        "    user_input = preprocess_lyrics(user_input)  # Pré-processa a entrada do usuário\n",
        "\n",
        "    all_lyrics = songs_df['cleaned_song_lyrics'].tolist() + [user_input]  # Junta as letras das músicas com a entrada do usuário\n",
        "\n",
        "    vectorizer = CountVectorizer(binary=True)  #  (bag of words)\n",
        "    bow_matrix = vectorizer.fit_transform(all_lyrics)\n",
        "\n",
        "    similarities = cosine_similarity(bow_matrix[-1], bow_matrix[:-1])[0]  # Calcula a similaridade de cosseno\n",
        "    angles = [round(math.degrees(math.acos(sim)), 1) if -1 <= sim <= 1 else None for sim in similarities]\n",
        "\n",
        "    songs_df['similarity'] = similarities  # Adiciona a similaridade no dataframe\n",
        "    songs_df['angle_degrees'] = angles  # Adiciona o ângulo em graus no dataframe\n",
        "\n",
        "    recommended_songs = songs_df.sort_values(by='similarity', ascending=False).head(10)  # Seleciona as 10 músicas mais similares\n",
        "    return recommended_songs[['song_name', 'artist', 'song_lyrics']]  # Retorna as colunas desejadas\n",
        "\n",
        "# Carregamento dos dados\n",
        "data_path = '/content/bossa_nova_songs_portugues.xlsx'\n",
        "songs_df = pd.read_excel(data_path)\n",
        "\n",
        "# Limpeza das letras das músicas\n",
        "songs_df['cleaned_song_lyrics'] = songs_df['song_lyrics'].apply(preprocess_lyrics)\n",
        "\n",
        "# Entrada do usuário\n",
        "user_input = str(input(\"Digite a letra ou parte da letra da música para recomendar: \"))\n",
        "recommendations = recommend_songs(user_input, songs_df)\n",
        "\n",
        "# Limite de caracteres para exibir da letra\n",
        "MAX_LETRA = 130\n",
        "\n",
        "# Exibindo as recomendações (título, artista e letra completa limitada)\n",
        "print(\"Músicas recomendadas:\")\n",
        "for index, row in recommendations.iterrows():\n",
        "    letra = row['song_lyrics']\n",
        "    if len(letra) > MAX_LETRA:\n",
        "        letra_exibida = letra[:MAX_LETRA] + \"...\"\n",
        "    else:\n",
        "        letra_exibida = letra\n",
        "\n",
        "    print(f\"Título: {row['song_name']}\")\n",
        "    print(f\"Artista: {row['artist']}\")\n",
        "    print(f\"Letra (trecho):\\n{letra_exibida}\\n\")\n"
      ],
      "metadata": {
        "colab": {
          "base_uri": "https://localhost:8080/"
        },
        "id": "M4_cB--TSqsG",
        "outputId": "51849b1f-fda9-4bd1-9442-27de882bee3e"
      },
      "execution_count": 9,
      "outputs": [
        {
          "output_type": "stream",
          "name": "stderr",
          "text": [
            "[nltk_data] Downloading package stopwords to /root/nltk_data...\n",
            "[nltk_data]   Package stopwords is already up-to-date!\n"
          ]
        },
        {
          "output_type": "stream",
          "name": "stdout",
          "text": [
            "Digite a letra ou parte da letra da música para recomendar: girassol\n",
            "Músicas recomendadas:\n",
            "Título:  O Girassol  \n",
            "Artista:   Vinicius de Moraes \n",
            "Letra (trecho):\n",
            "  Sempre que o sol  Pinta de anil  Todo o céu  O girassol  Fica um gentil  Carrossel  Roda, roda, roda  Carrossel  Roda, roda, rod...\n",
            "\n",
            "Título:  Catavento e Girassol  \n",
            "Artista:   Sérgio Mendes \n",
            "Letra (trecho):\n",
            "  Meu catavento tem dentro O que há do lado de fora do teu girassol Entre o escancaro e o contido Eu te pedi sustenido E você riu ...\n",
            "\n",
            "Título:  Cântico  \n",
            "Artista:   Vinicius de Moraes \n",
            "Letra (trecho):\n",
            "  Não, tu não és um sonho, és a existência Tens carne, tens fadiga e tens pudor No calmo peito teu. Tu és a estrela Sem nome, és a...\n",
            "\n",
            "Título:  Absinto  \n",
            "Artista:   Alaíde Costa \n",
            "Letra (trecho):\n",
            "  Hoje a coisa mais firme que creio É que eu te odeio E é esse o ódio que eu mais choro Eu te adoro Eu te adoro Eu bebo essas água...\n",
            "\n",
            "Título:  Tempo Calado  \n",
            "Artista:   Alaíde Costa \n",
            "Letra (trecho):\n",
            "  Ah! Se o esquecer me for negado Esta paixão posta de lado Irá me perseguir E tanto faz Que o tempo passe Ou que distantes Nossos...\n",
            "\n",
            "Título:  Quem Sou Eu?  \n",
            "Artista:   Alaíde Costa \n",
            "Letra (trecho):\n",
            "  A flor traz beleza O Sol traz o dia E a noite o amor Mas você, você traz Um enigma contido numa simples interrogação Quem sou eu...\n",
            "\n",
            "Título:  Diariamente  \n",
            "Artista:   Alaíde Costa \n",
            "Letra (trecho):\n",
            "  Cinco da manhã Latas de lixo Todos os tabus vão despertar Deita, meu amor, ainda é cedo Pra que tanto amor desperdiçar? E pra qu...\n",
            "\n",
            "Título:  Coração  \n",
            "Artista:   Alaíde Costa \n",
            "Letra (trecho):\n",
            "  Nem que seja solamente por algum momento De ilusão e de calor Pra ficar um dia em meu coração E no outro dia, olvidar Nem que se...\n",
            "\n",
            "Título:  Me Deixa Em Paz  \n",
            "Artista:   Alaíde Costa \n",
            "Letra (trecho):\n",
            "  Se você não me queria Não devia me procurar Não devia me iludir Nem deixar eu me apaixonar Evitar a dor É impossível Evitar esse...\n",
            "\n",
            "Título:  Amigo Amado  \n",
            "Artista:   Alaíde Costa \n",
            "Letra (trecho):\n",
            "  Saberei ocultar o meu amor Como a noite oculta a flor Que enche de aroma o seu jardim? Saberei, num silêncio sem fim Esconder o ...\n",
            "\n"
          ]
        }
      ]
    }
  ]
}