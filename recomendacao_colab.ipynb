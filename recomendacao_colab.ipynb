{
  "nbformat": 4,
  "nbformat_minor": 0,
  "metadata": {
    "colab": {
      "provenance": [],
      "authorship_tag": "ABX9TyPBaSOg5NaDExw5NVQBnE1k",
      "include_colab_link": true
    },
    "kernelspec": {
      "name": "python3",
      "display_name": "Python 3"
    },
    "language_info": {
      "name": "python"
    }
  },
  "cells": [
    {
      "cell_type": "markdown",
      "metadata": {
        "id": "view-in-github",
        "colab_type": "text"
      },
      "source": [
        "<a href=\"https://colab.research.google.com/github/lkaykymar/kayky_martins/blob/main/recomendacao_colab.ipynb\" target=\"_parent\"><img src=\"https://colab.research.google.com/assets/colab-badge.svg\" alt=\"Open In Colab\"/></a>"
      ]
    },
    {
      "cell_type": "markdown",
      "source": [
        "**Recomendação Por Título**\n",
        "\n",
        "---\n",
        "\n"
      ],
      "metadata": {
        "id": "XkuMbg2aDJ8t"
      }
    },
    {
      "cell_type": "code",
      "execution_count": 1,
      "metadata": {
        "colab": {
          "base_uri": "https://localhost:8080/"
        },
        "id": "3-gueBKUCYGT",
        "outputId": "dfbb9c11-bec7-4a51-9c55-b72c68698a49"
      },
      "outputs": [
        {
          "output_type": "stream",
          "name": "stderr",
          "text": [
            "[nltk_data] Downloading package stopwords to /root/nltk_data...\n",
            "[nltk_data]   Unzipping corpora/stopwords.zip.\n"
          ]
        },
        {
          "output_type": "stream",
          "name": "stdout",
          "text": [
            "Digite o nome da música para recomendar: girassol\n",
            "\n",
            "Músicas recomendadas:\n",
            " O Girassol   -   Vinicius de Moraes \n",
            " Catavento e Girassol   -   Sérgio Mendes \n",
            " Tomara   -   Alaíde Costa \n",
            " Tempo Calado   -   Alaíde Costa \n",
            " Quem Sou Eu?   -   Alaíde Costa \n",
            " Diariamente   -   Alaíde Costa \n",
            " Coração   -   Alaíde Costa \n",
            " Absinto   -   Alaíde Costa \n",
            " Amigo Amado   -   Alaíde Costa \n",
            " Onde Está Você   -   Alaíde Costa \n"
          ]
        }
      ],
      "source": [
        "import pandas as pd\n",
        "import re\n",
        "import unicodedata\n",
        "import numpy as np\n",
        "from sklearn.metrics.pairwise import cosine_similarity\n",
        "import math\n",
        "import nltk\n",
        "from nltk.corpus import stopwords\n",
        "\n",
        "# Baixar stopwords\n",
        "nltk.download('stopwords')\n",
        "\n",
        "# Lista de stopwords em português\n",
        "stop_words = set(stopwords.words('portuguese'))\n",
        "\n",
        "# Função para limpar os títulos das músicas\n",
        "def preprocess_song_name(song_name):\n",
        "    if pd.isna(song_name):\n",
        "        return \"\"\n",
        "\n",
        "    title = re.sub(r\"[\\[\\]']\", \"\", song_name)\n",
        "    title = re.sub(r\"[^\\w\\s]\", \"\", title)\n",
        "    title = title.lower()\n",
        "    title = ''.join(\n",
        "        char for char in unicodedata.normalize('NFD', title)\n",
        "        if unicodedata.category(char) != 'Mn'\n",
        "    )\n",
        "\n",
        "    # Remove stop words\n",
        "    words = title.split()\n",
        "    filtered_words = [word for word in words if word not in stop_words]\n",
        "\n",
        "    return \" \".join(filtered_words)\n",
        "\n",
        "# Função de recomendação\n",
        "def recommend_songs(user_input, songs_df):\n",
        "    user_input = preprocess_song_name(user_input)\n",
        "    user_vector = np.zeros(len(unique_words))\n",
        "\n",
        "    for word in user_input.split():\n",
        "        if word in word_index:\n",
        "            user_vector[word_index[word]] = 1\n",
        "\n",
        "    similarities = cosine_similarity([user_vector], word_bow.values)[0]\n",
        "    angles = [round(math.degrees(math.acos(sim)), 1) if -1 <= sim <= 1 else None for sim in similarities]\n",
        "\n",
        "    songs_df['similarity'] = similarities\n",
        "    songs_df['angle_degrees'] = angles\n",
        "\n",
        "    recommended_songs = songs_df.sort_values(by='similarity', ascending=False).head(10)\n",
        "    return recommended_songs[['song_name', 'artist']]\n",
        "\n",
        "# Carregando o dataset\n",
        "data_path = 'bossa_nova_songs_portugues.xlsx'  # Arquivo na mesma pasta do script\n",
        "songs_df = pd.read_excel(data_path)\n",
        "\n",
        "# Limpando os nomes das músicas\n",
        "songs_df['cleaned_song_name'] = songs_df['song_name'].apply(preprocess_song_name)\n",
        "\n",
        "# Criando o índice de palavras únicas\n",
        "unique_words = sorted(set(\" \".join(songs_df['cleaned_song_name']).split()))\n",
        "word_index = {word: idx for idx, word in enumerate(unique_words)}\n",
        "\n",
        "# Criando a matriz Bag of Words\n",
        "word_bow = pd.DataFrame(0, index=songs_df.index, columns=unique_words)\n",
        "for idx, song in enumerate(songs_df['cleaned_song_name']):\n",
        "    for word in song.split():\n",
        "        if word in word_bow.columns:\n",
        "            word_bow.loc[idx, word] = 1\n",
        "\n",
        "# Entrada do usuário e recomendação\n",
        "user_input = input(\"Digite o nome da música para recomendar: \")\n",
        "recommendations = recommend_songs(user_input, songs_df)\n",
        "\n",
        "# Exibindo somente nomes e artistas recomendados\n",
        "print(\"\\nMúsicas recomendadas:\")\n",
        "for idx, row in recommendations.iterrows():\n",
        "    print(f\"{row['song_name']} - {row['artist']}\")\n"
      ]
    },
    {
      "cell_type": "markdown",
      "source": [
        "**Recomendação Por Letra**\n",
        "\n",
        "---\n",
        "\n"
      ],
      "metadata": {
        "id": "ygGm97RSDYds"
      }
    },
    {
      "cell_type": "code",
      "source": [
        "import pandas as pd\n",
        "import re\n",
        "import unicodedata\n",
        "import numpy as np\n",
        "from sklearn.feature_extraction.text import CountVectorizer\n",
        "from sklearn.metrics.pairwise import cosine_similarity\n",
        "import math\n",
        "import nltk\n",
        "from nltk.corpus import stopwords\n",
        "\n",
        "# Baixando a lista de stopwords\n",
        "nltk.download('stopwords')\n",
        "stop_words = set(stopwords.words('portuguese'))  # Stopwords em português\n",
        "\n",
        "def preprocess_lyrics(lyrics):\n",
        "    if pd.isna(lyrics):\n",
        "        return \"\"\n",
        "    lyrics = lyrics.lower()  # Tudo minúsculo\n",
        "    lyrics = re.sub(r'[^\\w\\s]', '', lyrics)  # Remove pontuações\n",
        "    lyrics = ''.join(char for char in unicodedata.normalize('NFD', lyrics) if unicodedata.category(char) != 'Mn')  # Remove acentos\n",
        "    lyrics = ' '.join(word for word in lyrics.split() if word not in stop_words)  # Remove stopwords\n",
        "    return lyrics\n",
        "\n",
        "def recommend_songs(user_input, songs_df):\n",
        "    user_input = preprocess_lyrics(user_input)  # Pré-processa a entrada\n",
        "\n",
        "    all_lyrics = songs_df['cleaned_song_lyrics'].tolist() + [user_input]  # Letras + entrada\n",
        "\n",
        "    vectorizer = CountVectorizer(binary=True)  # Bag of words binário\n",
        "    bow_matrix = vectorizer.fit_transform(all_lyrics)\n",
        "\n",
        "    similarities = cosine_similarity(bow_matrix[-1], bow_matrix[:-1])[0]  # Similaridade com todas as músicas\n",
        "    angles = [round(math.degrees(math.acos(sim)), 1) if -1 <= sim <= 1 else None for sim in similarities]\n",
        "\n",
        "    songs_df['similarity'] = similarities\n",
        "    songs_df['angle_degrees'] = angles\n",
        "\n",
        "    recommended_songs = songs_df.sort_values(by='similarity', ascending=False).head(10)  # Top 10\n",
        "    return recommended_songs[['song_name', 'artist', 'song_lyrics']]\n",
        "\n",
        "# Caminho para o arquivo Excel\n",
        "data_path = 'bossa_nova_songs_portugues.xlsx'\n",
        "songs_df = pd.read_excel(data_path, engine=\"openpyxl\")\n",
        "\n",
        "# Limpa as letras\n",
        "songs_df['cleaned_song_lyrics'] = songs_df['song_lyrics'].apply(preprocess_lyrics)\n",
        "\n",
        "# Entrada do usuário\n",
        "user_input = input(\"Digite a letra ou parte da letra da música para recomendar: \")\n",
        "recommendations = recommend_songs(user_input, songs_df)\n",
        "\n",
        "# Limite de caracteres para mostrar do trecho da letra\n",
        "MAX_LETRA = 150\n",
        "\n",
        "print(\"\\nMúsicas recomendadas:\")\n",
        "for index, row in recommendations.iterrows():\n",
        "    letra = row['song_lyrics']\n",
        "    letra_exibida = (letra[:MAX_LETRA] + \"...\") if len(letra) > MAX_LETRA else letra\n",
        "\n",
        "    print(f\"Título: {row['song_name']}\")\n",
        "    print(f\"Artista: {row['artist']}\")\n",
        "    print(f\"Letra (trecho):\\n{letra_exibida}\\n\")\n"
      ],
      "metadata": {
        "colab": {
          "base_uri": "https://localhost:8080/"
        },
        "id": "Q1PnMn-fDXvH",
        "outputId": "325751b9-cb3f-4649-d8d9-5fee7f6ca7ab"
      },
      "execution_count": 2,
      "outputs": [
        {
          "output_type": "stream",
          "name": "stderr",
          "text": [
            "[nltk_data] Downloading package stopwords to /root/nltk_data...\n",
            "[nltk_data]   Package stopwords is already up-to-date!\n"
          ]
        },
        {
          "output_type": "stream",
          "name": "stdout",
          "text": [
            "Digite a letra ou parte da letra da música para recomendar: girassol\n",
            "\n",
            "Músicas recomendadas:\n",
            "Título:  O Girassol  \n",
            "Artista:   Vinicius de Moraes \n",
            "Letra (trecho):\n",
            "  Sempre que o sol  Pinta de anil  Todo o céu  O girassol  Fica um gentil  Carrossel  Roda, roda, roda  Carrossel  Roda, roda, roda  Rodador  Vai roda...\n",
            "\n",
            "Título:  Catavento e Girassol  \n",
            "Artista:   Sérgio Mendes \n",
            "Letra (trecho):\n",
            "  Meu catavento tem dentro O que há do lado de fora do teu girassol Entre o escancaro e o contido Eu te pedi sustenido E você riu bemol Você só pensa ...\n",
            "\n",
            "Título:  Cântico  \n",
            "Artista:   Vinicius de Moraes \n",
            "Letra (trecho):\n",
            "  Não, tu não és um sonho, és a existência Tens carne, tens fadiga e tens pudor No calmo peito teu. Tu és a estrela Sem nome, és a morada, és a cantig...\n",
            "\n",
            "Título:  Absinto  \n",
            "Artista:   Alaíde Costa \n",
            "Letra (trecho):\n",
            "  Hoje a coisa mais firme que creio É que eu te odeio E é esse o ódio que eu mais choro Eu te adoro Eu te adoro Eu bebo essas águas passadas Como um v...\n",
            "\n",
            "Título:  Tempo Calado  \n",
            "Artista:   Alaíde Costa \n",
            "Letra (trecho):\n",
            "  Ah! Se o esquecer me for negado Esta paixão posta de lado Irá me perseguir E tanto faz Que o tempo passe Ou que distantes Nossos braços Não se possa...\n",
            "\n",
            "Título:  Quem Sou Eu?  \n",
            "Artista:   Alaíde Costa \n",
            "Letra (trecho):\n",
            "  A flor traz beleza O Sol traz o dia E a noite o amor Mas você, você traz Um enigma contido numa simples interrogação Quem sou eu? Curiosa charada qu...\n",
            "\n",
            "Título:  Diariamente  \n",
            "Artista:   Alaíde Costa \n",
            "Letra (trecho):\n",
            "  Cinco da manhã Latas de lixo Todos os tabus vão despertar Deita, meu amor, ainda é cedo Pra que tanto amor desperdiçar? E pra que sair diariamente? ...\n",
            "\n",
            "Título:  Coração  \n",
            "Artista:   Alaíde Costa \n",
            "Letra (trecho):\n",
            "  Nem que seja solamente por algum momento De ilusão e de calor Pra ficar um dia em meu coração E no outro dia, olvidar Nem que seja somente por sonha...\n",
            "\n",
            "Título:  Me Deixa Em Paz  \n",
            "Artista:   Alaíde Costa \n",
            "Letra (trecho):\n",
            "  Se você não me queria Não devia me procurar Não devia me iludir Nem deixar eu me apaixonar Evitar a dor É impossível Evitar esse amor É muito mais V...\n",
            "\n",
            "Título:  Amigo Amado  \n",
            "Artista:   Alaíde Costa \n",
            "Letra (trecho):\n",
            "  Saberei ocultar o meu amor Como a noite oculta a flor Que enche de aroma o seu jardim? Saberei, num silêncio sem fim Esconder o luar Deste sonho em ...\n",
            "\n"
          ]
        }
      ]
    }
  ]
}